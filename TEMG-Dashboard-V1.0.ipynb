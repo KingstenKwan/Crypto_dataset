{
 "cells": [
  {
   "cell_type": "code",
   "execution_count": 1,
   "id": "c2f962ee",
   "metadata": {},
   "outputs": [
    {
     "name": "stdout",
     "output_type": "stream",
     "text": [
      "Requirement already satisfied: pandas in /Users/kingstenkwan/opt/anaconda3/lib/python3.9/site-packages (1.4.2)\n",
      "Requirement already satisfied: plotly in /Users/kingstenkwan/opt/anaconda3/lib/python3.9/site-packages (5.6.0)\n",
      "Requirement already satisfied: dash in /Users/kingstenkwan/opt/anaconda3/lib/python3.9/site-packages (2.13.0)\n",
      "Requirement already satisfied: python-dateutil>=2.8.1 in /Users/kingstenkwan/opt/anaconda3/lib/python3.9/site-packages (from pandas) (2.8.2)\n",
      "Requirement already satisfied: pytz>=2020.1 in /Users/kingstenkwan/opt/anaconda3/lib/python3.9/site-packages (from pandas) (2021.3)\n",
      "Requirement already satisfied: numpy>=1.18.5 in /Users/kingstenkwan/opt/anaconda3/lib/python3.9/site-packages (from pandas) (1.21.5)\n",
      "Requirement already satisfied: six in /Users/kingstenkwan/opt/anaconda3/lib/python3.9/site-packages (from plotly) (1.16.0)\n",
      "Requirement already satisfied: tenacity>=6.2.0 in /Users/kingstenkwan/opt/anaconda3/lib/python3.9/site-packages (from plotly) (8.0.1)\n",
      "Requirement already satisfied: Werkzeug<2.3.0 in /Users/kingstenkwan/opt/anaconda3/lib/python3.9/site-packages (from dash) (2.0.3)\n",
      "Requirement already satisfied: retrying in /Users/kingstenkwan/opt/anaconda3/lib/python3.9/site-packages (from dash) (1.3.4)\n",
      "Requirement already satisfied: setuptools in /Users/kingstenkwan/opt/anaconda3/lib/python3.9/site-packages (from dash) (61.2.0)\n",
      "Requirement already satisfied: dash-table==5.0.0 in /Users/kingstenkwan/opt/anaconda3/lib/python3.9/site-packages (from dash) (5.0.0)\n",
      "Requirement already satisfied: requests in /Users/kingstenkwan/opt/anaconda3/lib/python3.9/site-packages (from dash) (2.27.1)\n",
      "Requirement already satisfied: typing-extensions>=4.1.1 in /Users/kingstenkwan/opt/anaconda3/lib/python3.9/site-packages (from dash) (4.1.1)\n",
      "Requirement already satisfied: dash-core-components==2.0.0 in /Users/kingstenkwan/opt/anaconda3/lib/python3.9/site-packages (from dash) (2.0.0)\n",
      "Requirement already satisfied: Flask<2.3.0,>=1.0.4 in /Users/kingstenkwan/opt/anaconda3/lib/python3.9/site-packages (from dash) (1.1.2)\n",
      "Requirement already satisfied: nest-asyncio in /Users/kingstenkwan/opt/anaconda3/lib/python3.9/site-packages (from dash) (1.5.5)\n",
      "Requirement already satisfied: ansi2html in /Users/kingstenkwan/opt/anaconda3/lib/python3.9/site-packages (from dash) (1.8.0)\n",
      "Requirement already satisfied: dash-html-components==2.0.0 in /Users/kingstenkwan/opt/anaconda3/lib/python3.9/site-packages (from dash) (2.0.0)\n",
      "Requirement already satisfied: Jinja2>=2.10.1 in /Users/kingstenkwan/opt/anaconda3/lib/python3.9/site-packages (from Flask<2.3.0,>=1.0.4->dash) (2.11.3)\n",
      "Requirement already satisfied: click>=5.1 in /Users/kingstenkwan/opt/anaconda3/lib/python3.9/site-packages (from Flask<2.3.0,>=1.0.4->dash) (8.0.4)\n",
      "Requirement already satisfied: itsdangerous>=0.24 in /Users/kingstenkwan/opt/anaconda3/lib/python3.9/site-packages (from Flask<2.3.0,>=1.0.4->dash) (2.0.1)\n",
      "Requirement already satisfied: MarkupSafe>=0.23 in /Users/kingstenkwan/opt/anaconda3/lib/python3.9/site-packages (from Jinja2>=2.10.1->Flask<2.3.0,>=1.0.4->dash) (2.0.1)\n",
      "Requirement already satisfied: idna<4,>=2.5 in /Users/kingstenkwan/opt/anaconda3/lib/python3.9/site-packages (from requests->dash) (3.3)\n",
      "Requirement already satisfied: certifi>=2017.4.17 in /Users/kingstenkwan/opt/anaconda3/lib/python3.9/site-packages (from requests->dash) (2021.10.8)\n",
      "Requirement already satisfied: charset-normalizer~=2.0.0 in /Users/kingstenkwan/opt/anaconda3/lib/python3.9/site-packages (from requests->dash) (2.0.4)\n",
      "Requirement already satisfied: urllib3<1.27,>=1.21.1 in /Users/kingstenkwan/opt/anaconda3/lib/python3.9/site-packages (from requests->dash) (1.26.9)\n",
      "Note: you may need to restart the kernel to use updated packages.\n"
     ]
    }
   ],
   "source": [
    "pip install pandas plotly dash"
   ]
  },
  {
   "cell_type": "code",
   "execution_count": 2,
   "id": "0c499353",
   "metadata": {},
   "outputs": [
    {
     "name": "stderr",
     "output_type": "stream",
     "text": [
      "/var/folders/pl/bzsjstb141s1d141hrcfwm2w0000gn/T/ipykernel_89368/585139409.py:4: UserWarning: \n",
      "The dash_core_components package is deprecated. Please replace\n",
      "`import dash_core_components as dcc` with `from dash import dcc`\n",
      "  import dash_core_components as dcc\n",
      "/var/folders/pl/bzsjstb141s1d141hrcfwm2w0000gn/T/ipykernel_89368/585139409.py:5: UserWarning: \n",
      "The dash_html_components package is deprecated. Please replace\n",
      "`import dash_html_components as html` with `from dash import html`\n",
      "  import dash_html_components as html\n"
     ]
    }
   ],
   "source": [
    "import pandas as pd\n",
    "import plotly.express as px\n",
    "import dash\n",
    "import dash_core_components as dcc\n",
    "import dash_html_components as html\n",
    "from dash.dependencies import Input, Output, State\n",
    "from datetime import datetime"
   ]
  },
  {
   "cell_type": "code",
   "execution_count": 3,
   "id": "978bd386",
   "metadata": {},
   "outputs": [],
   "source": [
    "url = 'https://raw.githubusercontent.com/KingstenKwan/Crypto_dataset/main/'\n",
    "csv_files = [\n",
    "    \"coin_Aave.csv\", \"coin_BinanceCoin.csv\", \"coin_Bitcoin.csv\", \n",
    "    \"coin_Cardano.csv\", \"coin_ChainLink.csv\", \"coin_Cosmos.csv\", \n",
    "    \"coin_CryptocomCoin.csv\", \"coin_Dogecoin.csv\", \"coin_EOS.csv\",\n",
    "    \"coin_Ethereum.csv\", \"coin_Iota.csv\", \"coin_Litecoin.csv\", \n",
    "    \"coin_Monero.csv\", \"coin_NEM.csv\", \"coin_Polkadot.csv\", \n",
    "    \"coin_Solana.csv\", \"coin_Stellar.csv\", \"coin_Tether.csv\", \n",
    "    \"coin_Tron.csv\", \"coin_Uniswap.csv\", \"coin_USDCoin.csv\", \n",
    "    \"coin_WrappedBitcoin.csv\", \"coin_XRP.csv\"\n",
    "]\n",
    "\n",
    "df_list = []\n",
    "for file in csv_files: \n",
    "    df = pd.read_csv(url + file)\n",
    "    df_list.append(df)"
   ]
  },
  {
   "cell_type": "code",
   "execution_count": 4,
   "id": "88db1b43",
   "metadata": {},
   "outputs": [],
   "source": [
    "app = dash.Dash(__name__)\n",
    "\n",
    "dropdown_options = [{\"label\": crypto[5:-4], \"value\": crypto[5:-4]} for crypto in csv_files]\n",
    "\n",
    "app.layout = html.Div([\n",
    "    html.H1(children = \"Cryptocurrency Dashboard\",\n",
    "           style = {\n",
    "               'textAlign':'center',\n",
    "           }),\n",
    "    dcc.Tabs(id=\"tabs\", children=[\n",
    "        dcc.Tab(label=\"Pricing History\", children=[\n",
    "            html.Div([\n",
    "                html.Div(id=\"filter-options\", children=[\n",
    "                    html.Button(\"Daily\", id=\"btn-daily\", n_clicks=0),\n",
    "                    html.Button(\"Quarterly\", id=\"btn-quarterly\", n_clicks=0),\n",
    "                    html.Button(\"Yearly\", id=\"btn-yearly\", n_clicks=0),\n",
    "                    dcc.Graph(id=\"price-graph\"),\n",
    "                ]),\n",
    "            ])\n",
    "        ]),\n",
    "        dcc.Tab(label=\"My Portfolio\", children=[\n",
    "            html.Div([\n",
    "                html.H3(\"New Transaction\"),\n",
    "                \n",
    "                html.Label(\"Cryptocurrency Code: \"),\n",
    "                dcc.Dropdown(\n",
    "                    id=\"input-code\",\n",
    "                    options=dropdown_options,\n",
    "                    value=\"Aave\"\n",
    "                    ),\n",
    "                html.Br(),\n",
    "                html.Br(),\n",
    "                \n",
    "                html.Label(\"Date of Transaction: \"),\n",
    "                dcc.DatePickerSingle(\n",
    "                    id=\"input-date\",\n",
    "                    date=datetime.now().date(),\n",
    "                    display_format=\"YYYY-MM-DD\",\n",
    "                    placeholder=\"Select a date\",\n",
    "                    style={\"margin-bottom\": \"20px\"}\n",
    "                    ),\n",
    "                html.Br(),\n",
    "                \n",
    "                html.Label(\"Buy/Sell: \"),\n",
    "                dcc.Dropdown(\n",
    "                    id=\"input-buy-sell\",\n",
    "                    options=[\n",
    "                        {\"label\": \"Buy\", \"value\": \"Buy\"},\n",
    "                        {\"label\": \"Sell\", \"value\": \"Sell\"}\n",
    "                    ],\n",
    "                    value=\"Buy\"\n",
    "                ),\n",
    "                html.Br(),\n",
    "                html.Br(),\n",
    "                \n",
    "                html.Label(\"Amount in Cryptocurrency Units: \"),\n",
    "                dcc.Input(id=\"input-amount\", type=\"number\"),\n",
    "                html.Br(),\n",
    "                html.Br(),\n",
    "                \n",
    "                html.Button(\"Add Transaction\", id=\"btn-add-transaction\", n_clicks=0),\n",
    "                html.Div(id=\"transaction-feedback\")\n",
    "            ])\n",
    "        ]),\n",
    "    ]),\n",
    "])"
   ]
  },
  {
   "cell_type": "code",
   "execution_count": 5,
   "id": "2493df48",
   "metadata": {},
   "outputs": [],
   "source": [
    "@app.callback(\n",
    "    Output(\"price-graph\", \"figure\"),\n",
    "    Input(\"btn-daily\", \"n_clicks\"),\n",
    "    Input(\"btn-quarterly\", \"n_clicks\"),\n",
    "    Input(\"btn-yearly\", \"n_clicks\"),\n",
    ")\n",
    "\n",
    "def update_graph(n_daily, n_quarterly, n_yearly):\n",
    "    changed_id = [p['prop_id'] for p in dash.callback_context.triggered][0]\n",
    "    if \"btn-daily\" in changed_id:\n",
    "        interval = \"D\"\n",
    "    elif \"btn-quarterly\" in changed_id:\n",
    "        interval = \"Q\"\n",
    "    elif \"btn-yearly\" in changed_id:\n",
    "        interval = \"Y\"\n",
    "    else:\n",
    "        interval = \"D\"\n",
    "        \n",
    "    crypto_data = pd.concat(df_list)\n",
    "    crypto_data = crypto_data[['Name','Date','Close']]\n",
    "    crypto_data[\"x axis\"] = crypto_data[\"Date\"]\n",
    "    crypto_data[\"Date\"] = pd.to_datetime(crypto_data[\"Date\"])\n",
    "    df_resampled = crypto_data.groupby([pd.Grouper(key='Date', freq=interval), 'Name'])['Close'].mean().reset_index()\n",
    "    fig = px.line(df_resampled, x='Date', y='Close', color='Name', title = \"History Price of Cryptocurrency\")\n",
    "    \n",
    "    fig.update_layout(xaxis_tickformat='%Y-Q%q')\n",
    "\n",
    "    return fig"
   ]
  },
  {
   "cell_type": "code",
   "execution_count": 6,
   "id": "845c841d",
   "metadata": {},
   "outputs": [],
   "source": [
    "@app.callback(\n",
    "    Output(\"transaction-feedback\", \"children\"),\n",
    "    Input(\"btn-add-transaction\", \"n_clicks\"),\n",
    "    State(\"input-code\", \"value\"),\n",
    "    State(\"input-date\", \"date\"),\n",
    "    State(\"input-buy-sell\", \"value\"),\n",
    "    State(\"input-amount\", \"value\"),\n",
    ")\n",
    "\n",
    "def add_transaction(n_clicks, code, date, buy_sell, amount):\n",
    "    if n_clicks > 0:\n",
    "        print(f\"New Transaction: Code - {code}, Date - {date}, Buy/Sell - {buy_sell}, Amount -{amount}\")\n",
    "        return \"Transaction added successfully!\"      \n",
    "    return \"\""
   ]
  },
  {
   "cell_type": "code",
   "execution_count": 7,
   "id": "0e7e103f",
   "metadata": {},
   "outputs": [
    {
     "name": "stdout",
     "output_type": "stream",
     "text": [
      "Dash app running on http://127.0.0.1:8050/\n"
     ]
    }
   ],
   "source": [
    "app.run(jupyter_mode=\"external\")"
   ]
  }
 ],
 "metadata": {
  "kernelspec": {
   "display_name": "Python 3 (ipykernel)",
   "language": "python",
   "name": "python3"
  },
  "language_info": {
   "codemirror_mode": {
    "name": "ipython",
    "version": 3
   },
   "file_extension": ".py",
   "mimetype": "text/x-python",
   "name": "python",
   "nbconvert_exporter": "python",
   "pygments_lexer": "ipython3",
   "version": "3.9.12"
  }
 },
 "nbformat": 4,
 "nbformat_minor": 5
}
